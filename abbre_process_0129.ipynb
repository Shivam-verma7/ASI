{
 "cells": [
  {
   "cell_type": "code",
   "execution_count": 1,
   "metadata": {},
   "outputs": [],
   "source": [
    "import string\n",
    "from nltk.corpus import stopwords\n",
    "import nltk \n",
    "import pandas as pd\n",
    "import numpy as np\n",
    "import re\n",
    "from collections import Counter\n",
    "import csv\n",
    "from nltk import stem\n",
    "import difflib"
   ]
  },
  {
   "cell_type": "code",
   "execution_count": 2,
   "metadata": {},
   "outputs": [],
   "source": [
    "#nltk.download_shell() "
   ]
  },
  {
   "cell_type": "code",
   "execution_count": 3,
   "metadata": {},
   "outputs": [],
   "source": [
    "from nltk.corpus import stopwords"
   ]
  },
  {
   "cell_type": "markdown",
   "metadata": {},
   "source": [
    "# Dictionary"
   ]
  },
  {
   "cell_type": "code",
   "execution_count": 4,
   "metadata": {},
   "outputs": [
    {
     "name": "stdout",
     "output_type": "stream",
     "text": [
      "                              Name  Form\n",
      "0               Above Ground Level   AGL\n",
      "1           Actual Time Of Arrival   ATA\n",
      "2         Actual Time Of Departure   ATD\n",
      "3                     Aeronautical  AERO\n",
      "4  Aeronautical Information Manual   AIM\n"
     ]
    }
   ],
   "source": [
    "abb = pd.read_csv(\"abb_new.csv\")\n",
    "abb =abb.drop_duplicates()\n",
    "abb =abb.dropna()\n",
    "print(abb.head())"
   ]
  },
  {
   "cell_type": "code",
   "execution_count": 5,
   "metadata": {},
   "outputs": [
    {
     "name": "stdout",
     "output_type": "stream",
     "text": [
      "465\n",
      "456\n"
     ]
    }
   ],
   "source": [
    "print(len(abb))\n",
    "print(len(abb['Form'].unique()))"
   ]
  },
  {
   "cell_type": "code",
   "execution_count": 6,
   "metadata": {},
   "outputs": [
    {
     "data": {
      "text/plain": [
       "CAT     2\n",
       "N       2\n",
       "FSS     2\n",
       "ATA     2\n",
       "TCAS    2\n",
       "Z       2\n",
       "AWOS    2\n",
       "EST     2\n",
       "RWY     2\n",
       "OJT     1\n",
       "Name: Form, dtype: int64"
      ]
     },
     "execution_count": 6,
     "metadata": {},
     "output_type": "execute_result"
    }
   ],
   "source": [
    "abb['Form'].value_counts().head(10)\n",
    "#some rows have the same column value"
   ]
  },
  {
   "cell_type": "code",
   "execution_count": 7,
   "metadata": {},
   "outputs": [
    {
     "data": {
      "text/html": [
       "<div>\n",
       "<style scoped>\n",
       "    .dataframe tbody tr th:only-of-type {\n",
       "        vertical-align: middle;\n",
       "    }\n",
       "\n",
       "    .dataframe tbody tr th {\n",
       "        vertical-align: top;\n",
       "    }\n",
       "\n",
       "    .dataframe thead th {\n",
       "        text-align: right;\n",
       "    }\n",
       "</style>\n",
       "<table border=\"1\" class=\"dataframe\">\n",
       "  <thead>\n",
       "    <tr style=\"text-align: right;\">\n",
       "      <th></th>\n",
       "      <th>Name</th>\n",
       "      <th>Form</th>\n",
       "    </tr>\n",
       "  </thead>\n",
       "  <tbody>\n",
       "    <tr>\n",
       "      <th>1</th>\n",
       "      <td>Actual Time Of Arrival</td>\n",
       "      <td>ATA</td>\n",
       "    </tr>\n",
       "    <tr>\n",
       "      <th>13</th>\n",
       "      <td>Air Traffic Area</td>\n",
       "      <td>ATA</td>\n",
       "    </tr>\n",
       "    <tr>\n",
       "      <th>40</th>\n",
       "      <td>Automated Surface Observation Sys (Or Weather ...</td>\n",
       "      <td>AWOS</td>\n",
       "    </tr>\n",
       "    <tr>\n",
       "      <th>46</th>\n",
       "      <td>Automatic Weather Observing/Reporting System</td>\n",
       "      <td>AWOS</td>\n",
       "    </tr>\n",
       "    <tr>\n",
       "      <th>65</th>\n",
       "      <td>Category</td>\n",
       "      <td>CAT</td>\n",
       "    </tr>\n",
       "    <tr>\n",
       "      <th>79</th>\n",
       "      <td>Clear Air Turbulence</td>\n",
       "      <td>CAT</td>\n",
       "    </tr>\n",
       "    <tr>\n",
       "      <th>97</th>\n",
       "      <td>Coordinated Universal Time</td>\n",
       "      <td>Z</td>\n",
       "    </tr>\n",
       "    <tr>\n",
       "      <th>127</th>\n",
       "      <td>Eastern Standard Time</td>\n",
       "      <td>EST</td>\n",
       "    </tr>\n",
       "    <tr>\n",
       "      <th>139</th>\n",
       "      <td>Estimate, Estimation</td>\n",
       "      <td>EST</td>\n",
       "    </tr>\n",
       "    <tr>\n",
       "      <th>178</th>\n",
       "      <td>Flight Service Station</td>\n",
       "      <td>FSS</td>\n",
       "    </tr>\n",
       "    <tr>\n",
       "      <th>179</th>\n",
       "      <td>Flight Service Station Specialist</td>\n",
       "      <td>FSS</td>\n",
       "    </tr>\n",
       "    <tr>\n",
       "      <th>326</th>\n",
       "      <td>North</td>\n",
       "      <td>N</td>\n",
       "    </tr>\n",
       "    <tr>\n",
       "      <th>386</th>\n",
       "      <td>Runway(S)</td>\n",
       "      <td>RWY</td>\n",
       "    </tr>\n",
       "    <tr>\n",
       "      <th>425</th>\n",
       "      <td>Traffic Alert and Collision Avoidance</td>\n",
       "      <td>TCAS</td>\n",
       "    </tr>\n",
       "    <tr>\n",
       "      <th>802</th>\n",
       "      <td>North, South, East, West</td>\n",
       "      <td>N</td>\n",
       "    </tr>\n",
       "    <tr>\n",
       "      <th>875</th>\n",
       "      <td>Runway(s)</td>\n",
       "      <td>RWY</td>\n",
       "    </tr>\n",
       "    <tr>\n",
       "      <th>900</th>\n",
       "      <td>Traffic Alert and Collision Avoidance System</td>\n",
       "      <td>TCAS</td>\n",
       "    </tr>\n",
       "    <tr>\n",
       "      <th>950</th>\n",
       "      <td>Coordinated Universal Time, same as Greenwich ...</td>\n",
       "      <td>Z</td>\n",
       "    </tr>\n",
       "  </tbody>\n",
       "</table>\n",
       "</div>"
      ],
      "text/plain": [
       "                                                  Name  Form\n",
       "1                               Actual Time Of Arrival   ATA\n",
       "13                                    Air Traffic Area   ATA\n",
       "40   Automated Surface Observation Sys (Or Weather ...  AWOS\n",
       "46        Automatic Weather Observing/Reporting System  AWOS\n",
       "65                                            Category   CAT\n",
       "79                                Clear Air Turbulence   CAT\n",
       "97                          Coordinated Universal Time     Z\n",
       "127                              Eastern Standard Time   EST\n",
       "139                               Estimate, Estimation   EST\n",
       "178                             Flight Service Station   FSS\n",
       "179                  Flight Service Station Specialist   FSS\n",
       "326                                              North     N\n",
       "386                                          Runway(S)   RWY\n",
       "425              Traffic Alert and Collision Avoidance  TCAS\n",
       "802                           North, South, East, West     N\n",
       "875                                          Runway(s)   RWY\n",
       "900       Traffic Alert and Collision Avoidance System  TCAS\n",
       "950  Coordinated Universal Time, same as Greenwich ...     Z"
      ]
     },
     "execution_count": 7,
     "metadata": {},
     "output_type": "execute_result"
    }
   ],
   "source": [
    "array = ['FSS','EST','CAT','AWOS','RWY','Z','ATA','TCAS','N']\n",
    "abb.loc[abb['Form'].isin(array)]"
   ]
  },
  {
   "cell_type": "code",
   "execution_count": 8,
   "metadata": {},
   "outputs": [],
   "source": [
    "#Unify some values\n",
    "abb.loc[1,'Name'] = 'Actual Time Of Arrival/Air Traffic Area'\n",
    "abb.loc[13,'Name'] = 'Actual Time Of Arrival/Air Traffic Area'\n",
    "abb.loc[40,'Name'] = 'Automatic Weather Observing System'\n",
    "abb.loc[46,'Name'] = 'Automatic Weather Observing System'\n",
    "abb.loc[65,'Name'] ='Category/Clear Air Turbulence'\n",
    "abb.loc[79,'Name'] ='Category/Clear Air Turbulence'\n",
    "abb.loc[468,'Name'] = 'Coordinated Universal Time'\n",
    "abb.loc[127,'Name'] = 'Eastern Standard Time/Estimate'\n",
    "abb.loc[139,'Name'] = 'Eastern Standard Time/Estimate'\n",
    "abb.loc[179,'Name'] = 'Flight Service Station'\n",
    "abb.loc[465,'Name'] = 'North'\n",
    "abb.loc[387,'Name'] = 'Runway(s)'\n",
    "abb.loc[467,'Name'] = 'Traffic Alert and Collision Avoidance'"
   ]
  },
  {
   "cell_type": "code",
   "execution_count": 9,
   "metadata": {},
   "outputs": [
    {
     "data": {
      "text/plain": [
       "N       2\n",
       "TCAS    2\n",
       "RWY     2\n",
       "Z       2\n",
       "APCH    1\n",
       "Name: Form, dtype: int64"
      ]
     },
     "execution_count": 9,
     "metadata": {},
     "output_type": "execute_result"
    }
   ],
   "source": [
    "abb =abb.drop_duplicates()\n",
    "abb =abb.dropna()\n",
    "abb['Form'].value_counts().head(5)"
   ]
  },
  {
   "cell_type": "code",
   "execution_count": 10,
   "metadata": {},
   "outputs": [],
   "source": [
    "#Remove rows that contain numeric values\n",
    "indexNames = abb[(abb['Form'].str.contains('0')) | (abb['Form'].str.contains('1'))|\n",
    "                 (abb['Form'].str.contains('2')) | (abb['Form'].str.contains('3'))|\n",
    "                 (abb['Form'].str.contains('4')) | (abb['Form'].str.contains('5'))|\n",
    "                 (abb['Form'].str.contains('6')) | (abb['Form'].str.contains('7'))|\n",
    "                 (abb['Form'].str.contains('8')) | (abb['Form'].str.contains('9'))].index\n",
    "abb.drop(indexNames , inplace=True)"
   ]
  },
  {
   "cell_type": "code",
   "execution_count": 11,
   "metadata": {},
   "outputs": [
    {
     "name": "stdout",
     "output_type": "stream",
     "text": [
      "458\n",
      "454\n"
     ]
    },
    {
     "data": {
      "text/html": [
       "<div>\n",
       "<style scoped>\n",
       "    .dataframe tbody tr th:only-of-type {\n",
       "        vertical-align: middle;\n",
       "    }\n",
       "\n",
       "    .dataframe tbody tr th {\n",
       "        vertical-align: top;\n",
       "    }\n",
       "\n",
       "    .dataframe thead th {\n",
       "        text-align: right;\n",
       "    }\n",
       "</style>\n",
       "<table border=\"1\" class=\"dataframe\">\n",
       "  <thead>\n",
       "    <tr style=\"text-align: right;\">\n",
       "      <th></th>\n",
       "      <th>Name</th>\n",
       "      <th>Form</th>\n",
       "    </tr>\n",
       "  </thead>\n",
       "  <tbody>\n",
       "    <tr>\n",
       "      <th>0</th>\n",
       "      <td>Above Ground Level</td>\n",
       "      <td>AGL</td>\n",
       "    </tr>\n",
       "    <tr>\n",
       "      <th>1</th>\n",
       "      <td>Actual Time Of Arrival/Air Traffic Area</td>\n",
       "      <td>ATA</td>\n",
       "    </tr>\n",
       "    <tr>\n",
       "      <th>2</th>\n",
       "      <td>Actual Time Of Departure</td>\n",
       "      <td>ATD</td>\n",
       "    </tr>\n",
       "    <tr>\n",
       "      <th>3</th>\n",
       "      <td>Aeronautical</td>\n",
       "      <td>AERO</td>\n",
       "    </tr>\n",
       "    <tr>\n",
       "      <th>4</th>\n",
       "      <td>Aeronautical Information Manual</td>\n",
       "      <td>AIM</td>\n",
       "    </tr>\n",
       "  </tbody>\n",
       "</table>\n",
       "</div>"
      ],
      "text/plain": [
       "                                      Name  Form\n",
       "0                       Above Ground Level   AGL\n",
       "1  Actual Time Of Arrival/Air Traffic Area   ATA\n",
       "2                 Actual Time Of Departure   ATD\n",
       "3                             Aeronautical  AERO\n",
       "4          Aeronautical Information Manual   AIM"
      ]
     },
     "execution_count": 11,
     "metadata": {},
     "output_type": "execute_result"
    }
   ],
   "source": [
    "print(len(abb)),print(len(abb['Form'].unique()))\n",
    "abb.head()"
   ]
  },
  {
   "cell_type": "code",
   "execution_count": 12,
   "metadata": {},
   "outputs": [],
   "source": [
    "#Create the dictionary\n",
    "dict_abb = {}\n",
    "for i in range(len(abb)):   \n",
    "    word = ' '+abb.iloc[i,1]+' '\n",
    "    value = ' '+abb.iloc[i,0]+' '\n",
    "    dict_abb[word] = value\n",
    "#Standard 2400' Hi-Intensity Approach Lighting System With Sequenced Flashers (Cat I Config), ALSF-1\n",
    "#Standard 2400' Hi-Intensity Approach Lighting System With Sequenced Flashers (Cat Ii Config), ALSF-2\n",
    "dict_abb = {k.lower(): v.lower() for k, v in dict_abb.items()}"
   ]
  },
  {
   "cell_type": "markdown",
   "metadata": {},
   "source": [
    "# ASRS"
   ]
  },
  {
   "cell_type": "code",
   "execution_count": 13,
   "metadata": {},
   "outputs": [
    {
     "name": "stderr",
     "output_type": "stream",
     "text": [
      "/opt/anaconda3/lib/python3.7/site-packages/IPython/core/interactiveshell.py:3051: DtypeWarning: Columns (15,19,20,28,33,44,51,53,54,55,56,66,91) have mixed types. Specify dtype option on import or set low_memory=False.\n",
      "  interactivity=interactivity, compiler=compiler, result=result)\n"
     ]
    },
    {
     "data": {
      "text/plain": [
       "Index(['report 1', 'report 1.1', 'report 2', 'report 2.1', 'report 1.2',\n",
       "       'unnamed: 96'],\n",
       "      dtype='object')"
      ]
     },
     "execution_count": 13,
     "metadata": {},
     "output_type": "execute_result"
    }
   ],
   "source": [
    "df = pd.read_csv('asrs_v1_1112.csv')\n",
    "df.columns[-16:-10]"
   ]
  },
  {
   "cell_type": "code",
   "execution_count": 14,
   "metadata": {},
   "outputs": [],
   "source": [
    "df = df.head(5000)\n",
    "re1 = df['report 1']"
   ]
  },
  {
   "cell_type": "code",
   "execution_count": 15,
   "metadata": {},
   "outputs": [],
   "source": [
    "def text_process1(mess):\n",
    "    # Check characters to see if they are in punctuation\n",
    "    nopunc = [char for char in mess if char not in string.punctuation]\n",
    "    # Join the characters again to form the string.\n",
    "    nopunc = ' '+''.join(nopunc).lower()+' '\n",
    "    return nopunc"
   ]
  },
  {
   "cell_type": "code",
   "execution_count": 16,
   "metadata": {},
   "outputs": [],
   "source": [
    "re1 =re1.apply(text_process1)"
   ]
  },
  {
   "cell_type": "code",
   "execution_count": 17,
   "metadata": {},
   "outputs": [
    {
     "data": {
      "text/plain": [
       "' today flying at 9000 ft near msv on an ifr flt plan i saw 2 parachuters drop past within 100 ft the first at my 11 oclock pos btwn 50 ft and 100 ft away saw that one but didnt comprehend what it was went by too fast i thought it was some kind of collapsed balloon at first then another at my 2303 oclock pos less than 50 ft off my wing just after that atc told me to turn to an immediate 160 deg hdg i had been on a 90 deg hdg i told them what i had just seen and he said yeah there was a jump acft above me only mention of para jumping in the fss briefing was nw of wilkesbarre and atc hadnt said a peep before the incident i was in and out of cumulus at that alt and had only been out of a cloud for about 30 seconds before the jumpers passed through my alt too fast for me to attempt any evasive action their parachutes were not deployed but a small parachute or an unreleased parachute trailed each by a few ft the jumpers were close enough to see clrly that they were wearing helmets with visors it took me a good 12 hr to calm down sky condition was twring cumulus with coverage of around 50 according to the breadcrumb trail on my gps the turn directed by atc occurred 6 nm e of helon 2 nm nw of n45 a subsequent search on wx brief website revealed a parachute jumping notam for 1 nm radius over n45 this notam was not passed on by williamsport fss during my telephone briefing prior to my dep from ipt '"
      ]
     },
     "execution_count": 17,
     "metadata": {},
     "output_type": "execute_result"
    }
   ],
   "source": [
    "re1[0]"
   ]
  },
  {
   "cell_type": "code",
   "execution_count": 18,
   "metadata": {},
   "outputs": [],
   "source": [
    "#replace abbreviation with words\n",
    "for i in range(len(re1)):\n",
    "    for k, v in dict_abb.items():\n",
    "        re1[i] = re1[i].replace(k, v)\n",
    "re1_new = re1.copy()"
   ]
  },
  {
   "cell_type": "code",
   "execution_count": 19,
   "metadata": {},
   "outputs": [],
   "source": [
    "for i in range(len(re1)):\n",
    "    for k, v in dict_abb.items():\n",
    "        re1[i] = re1[i].replace(k, v)"
   ]
  },
  {
   "cell_type": "code",
   "execution_count": 20,
   "metadata": {},
   "outputs": [
    {
     "data": {
      "text/plain": [
       "' today flying at 9000 feet/foot near msv on an instrument flight rules flight plan i saw 2 parachuters drop past within 100 feet/foot the first at my 11 oclock position between 50 feet/foot and 100 feet/foot away saw that one but didnt comprehend what it was went by too fast i thought it was some kind of collapsed balloon at first then another at my 2303 oclock position less than 50 feet/foot off my wing just after that air traffic control told me to turn to an immediate 160 degree heading i had been on a 90 degree heading i told them what i had just seen and he said yeah there was a jump aircraft above me only mention of para jumping in the flight service station briefing was nw of wilkesbarre and air traffic control hadnt said a peep before the incident i was in and out of cumulus at that altitude and had only been out of a cloud for about 30 seconds before the jumpers passed through my altitude too fast for me to attempt any evasive action their parachutes were not deployed but a small parachute or an unreleased parachute trailed each by a few feet/foot the jumpers were close enough to see clrly that they were wearing helmets with visors it took me a good 12 hour to calm down sky condition was twring cumulus with coverage of around 50 according to the breadcrumb trail on my global positioning system the turn directed by air traffic control occurred 6 nautical mile east of helon 2 nautical mile nw of n45 a subsequent search on weather brief website revealed a parachute jumping notice to airmen for 1 nautical mile radius over n45 this notice to airmen was not passed on by williamsport flight service station during my telephone briefing prior to my departure from ipt '"
      ]
     },
     "execution_count": 20,
     "metadata": {},
     "output_type": "execute_result"
    }
   ],
   "source": [
    "re1_new[0]"
   ]
  },
  {
   "cell_type": "code",
   "execution_count": 21,
   "metadata": {},
   "outputs": [
    {
     "data": {
      "text/plain": [
       "'today flying at 9000 feet/foot near msv on an instrument flight rules flight plan i saw 2 parachuters drop past within 100 feet/foot the first at my 11 oclock position between 50 feet/foot and 100 feet/foot away saw that one but didnt comprehend what it was went by too fast i thought it was some kind of collapsed balloon at first then another at my 2303 oclock position less than 50 feet/foot off my wing just after that air traffic control told me to turn to an immediate 160 degree heading i had been on a 90 degree heading i told them what i had just seen and he said yeah there was a jump aircraft above me only mention of para jumping in the flight service station briefing was nw of wilkesbarre and air traffic control hadnt said a peep before the incident i was in and out of cumulus at that altitude and had only been out of a cloud for about 30 seconds before the jumpers passed through my altitude too fast for me to attempt any evasive action their parachutes were not deployed but a small parachute or an unreleased parachute trailed each by a few feet/foot the jumpers were close enough to see clrly that they were wearing helmets with visors it took me a good 12 hour to calm down sky condition was twring cumulus with coverage of around 50 according to the breadcrumb trail on my global positioning system the turn directed by air traffic control occurred 6 nautical mile east of helon 2 nautical mile nw of n45 a subsequent search on weather brief website revealed a parachute jumping notice to airmen for 1 nautical mile radius over n45 this notice to airmen was not passed on by williamsport flight service station during my telephone briefing prior to my departure from ipt'"
      ]
     },
     "execution_count": 21,
     "metadata": {},
     "output_type": "execute_result"
    }
   ],
   "source": [
    "#remove blanks\n",
    "for i in range(len(re1_new)):\n",
    "    re1_new[i] = re1_new[i][1:-1]\n",
    "re1_new[0]"
   ]
  },
  {
   "cell_type": "code",
   "execution_count": 22,
   "metadata": {},
   "outputs": [],
   "source": [
    "#add new report to previous csv file\n",
    "#result = pd.concat([df, re1_new], axis=1, sort=False)\n",
    "#result.to_csv('asrs_v1_0105.csv')"
   ]
  },
  {
   "cell_type": "markdown",
   "metadata": {},
   "source": [
    "# Word Count"
   ]
  },
  {
   "cell_type": "code",
   "execution_count": 23,
   "metadata": {},
   "outputs": [],
   "source": [
    "#Combine all lists to one list\n",
    "re1_word=[]\n",
    "for i in range(len(re1_new)):\n",
    "    re1_new[i] = re1_new[i].split(' ')\n",
    "    re1_word = re1_word +re1_new[i]"
   ]
  },
  {
   "cell_type": "code",
   "execution_count": 28,
   "metadata": {},
   "outputs": [
    {
     "name": "stderr",
     "output_type": "stream",
     "text": [
      "[nltk_data] Downloading package wordnet to\n",
      "[nltk_data]     /Users/lukmanbun/nltk_data...\n",
      "[nltk_data]   Package wordnet is already up-to-date!\n"
     ]
    }
   ],
   "source": [
    "nltk.download('wordnet')\n",
    "wnl = stem.WordNetLemmatizer()\n",
    "porter = stem.porter.PorterStemmer()"
   ]
  },
  {
   "cell_type": "code",
   "execution_count": 26,
   "metadata": {},
   "outputs": [],
   "source": [
    "def word_count(x):\n",
    "    #Remove stop words from the list\n",
    "    stop_words = stopwords.words('english')\n",
    "    x =[word for word in x if word not in stop_words]\n",
    "    #Stemming\n",
    "    #re1_word = [stem(word) for word in re1_word]\n",
    "    x = [wnl.lemmatize(word) for word in x]\n",
    "    #remove words contain number\n",
    "    x = [word for word in x if all(digit not in word for digit in \"1234567890\")]\n",
    "    #remove blank\n",
    "    return [word for word in x if word != '']"
   ]
  },
  {
   "cell_type": "code",
   "execution_count": 117,
   "metadata": {},
   "outputs": [],
   "source": [
    "re1_word_remove = word_count(re1_word)"
   ]
  },
  {
   "cell_type": "code",
   "execution_count": 32,
   "metadata": {},
   "outputs": [
    {
     "data": {
      "text/html": [
       "<div>\n",
       "<style scoped>\n",
       "    .dataframe tbody tr th:only-of-type {\n",
       "        vertical-align: middle;\n",
       "    }\n",
       "\n",
       "    .dataframe tbody tr th {\n",
       "        vertical-align: top;\n",
       "    }\n",
       "\n",
       "    .dataframe thead th {\n",
       "        text-align: right;\n",
       "    }\n",
       "</style>\n",
       "<table border=\"1\" class=\"dataframe\">\n",
       "  <thead>\n",
       "    <tr style=\"text-align: right;\">\n",
       "      <th></th>\n",
       "      <th>Word</th>\n",
       "      <th>Count</th>\n",
       "    </tr>\n",
       "  </thead>\n",
       "  <tbody>\n",
       "    <tr>\n",
       "      <th>0</th>\n",
       "      <td>the</td>\n",
       "      <td>88002</td>\n",
       "    </tr>\n",
       "    <tr>\n",
       "      <th>1</th>\n",
       "      <td>to</td>\n",
       "      <td>50212</td>\n",
       "    </tr>\n",
       "    <tr>\n",
       "      <th>2</th>\n",
       "      <td>i</td>\n",
       "      <td>41989</td>\n",
       "    </tr>\n",
       "    <tr>\n",
       "      <th>3</th>\n",
       "      <td>and</td>\n",
       "      <td>41009</td>\n",
       "    </tr>\n",
       "    <tr>\n",
       "      <th>4</th>\n",
       "      <td>was</td>\n",
       "      <td>28996</td>\n",
       "    </tr>\n",
       "    <tr>\n",
       "      <th>...</th>\n",
       "      <td>...</td>\n",
       "      <td>...</td>\n",
       "    </tr>\n",
       "    <tr>\n",
       "      <th>23853</th>\n",
       "      <td>001002</td>\n",
       "      <td>1</td>\n",
       "    </tr>\n",
       "    <tr>\n",
       "      <th>23854</th>\n",
       "      <td>001</td>\n",
       "      <td>1</td>\n",
       "    </tr>\n",
       "    <tr>\n",
       "      <th>23855</th>\n",
       "      <td>0001</td>\n",
       "      <td>1</td>\n",
       "    </tr>\n",
       "    <tr>\n",
       "      <th>23856</th>\n",
       "      <td>this</td>\n",
       "      <td>1</td>\n",
       "    </tr>\n",
       "    <tr>\n",
       "      <th>23857</th>\n",
       "      <td>i</td>\n",
       "      <td>1</td>\n",
       "    </tr>\n",
       "  </tbody>\n",
       "</table>\n",
       "<p>23858 rows × 2 columns</p>\n",
       "</div>"
      ],
      "text/plain": [
       "         Word  Count\n",
       "0         the  88002\n",
       "1          to  50212\n",
       "2           i  41989\n",
       "3         and  41009\n",
       "4         was  28996\n",
       "...       ...    ...\n",
       "23853  001002      1\n",
       "23854     001      1\n",
       "23855    0001      1\n",
       "23856   \n",
       "this      1\n",
       "23857      \n",
       "i      1\n",
       "\n",
       "[23858 rows x 2 columns]"
      ]
     },
     "execution_count": 32,
     "metadata": {},
     "output_type": "execute_result"
    }
   ],
   "source": [
    "frequency"
   ]
  },
  {
   "cell_type": "code",
   "execution_count": 118,
   "metadata": {},
   "outputs": [],
   "source": [
    "#word count\n",
    "counts = Counter(re1_word_remove)\n",
    "frequency =[(l,k) for k,l in sorted([(j,i) for i,j in counts.items()], reverse=True)]\n",
    "frequency = pd.DataFrame(frequency)\n",
    "frequency.columns = ['Word','Count']"
   ]
  },
  {
   "cell_type": "code",
   "execution_count": 119,
   "metadata": {},
   "outputs": [],
   "source": [
    "#add frequency column\n",
    "frequency['Percentage'] = round(100 * frequency['Count'] / frequency['Count'].sum(),2)"
   ]
  },
  {
   "cell_type": "code",
   "execution_count": 120,
   "metadata": {},
   "outputs": [
    {
     "data": {
      "text/html": [
       "<div>\n",
       "<style scoped>\n",
       "    .dataframe tbody tr th:only-of-type {\n",
       "        vertical-align: middle;\n",
       "    }\n",
       "\n",
       "    .dataframe tbody tr th {\n",
       "        vertical-align: top;\n",
       "    }\n",
       "\n",
       "    .dataframe thead th {\n",
       "        text-align: right;\n",
       "    }\n",
       "</style>\n",
       "<table border=\"1\" class=\"dataframe\">\n",
       "  <thead>\n",
       "    <tr style=\"text-align: right;\">\n",
       "      <th></th>\n",
       "      <th>Word</th>\n",
       "      <th>Count</th>\n",
       "      <th>Percentage</th>\n",
       "    </tr>\n",
       "  </thead>\n",
       "  <tbody>\n",
       "    <tr>\n",
       "      <th>0</th>\n",
       "      <td>aircraft</td>\n",
       "      <td>11130</td>\n",
       "      <td>1.55</td>\n",
       "    </tr>\n",
       "    <tr>\n",
       "      <th>1</th>\n",
       "      <td>flight</td>\n",
       "      <td>10761</td>\n",
       "      <td>1.50</td>\n",
       "    </tr>\n",
       "    <tr>\n",
       "      <th>2</th>\n",
       "      <td>runway(s)</td>\n",
       "      <td>8407</td>\n",
       "      <td>1.17</td>\n",
       "    </tr>\n",
       "    <tr>\n",
       "      <th>3</th>\n",
       "      <td>feet/foot</td>\n",
       "      <td>7730</td>\n",
       "      <td>1.08</td>\n",
       "    </tr>\n",
       "    <tr>\n",
       "      <th>4</th>\n",
       "      <td>traffic</td>\n",
       "      <td>6050</td>\n",
       "      <td>0.84</td>\n",
       "    </tr>\n",
       "    <tr>\n",
       "      <th>5</th>\n",
       "      <td>approach</td>\n",
       "      <td>5911</td>\n",
       "      <td>0.82</td>\n",
       "    </tr>\n",
       "    <tr>\n",
       "      <th>6</th>\n",
       "      <td>time</td>\n",
       "      <td>4531</td>\n",
       "      <td>0.63</td>\n",
       "    </tr>\n",
       "    <tr>\n",
       "      <th>7</th>\n",
       "      <td>landing</td>\n",
       "      <td>4420</td>\n",
       "      <td>0.62</td>\n",
       "    </tr>\n",
       "    <tr>\n",
       "      <th>8</th>\n",
       "      <td>tower</td>\n",
       "      <td>4324</td>\n",
       "      <td>0.60</td>\n",
       "    </tr>\n",
       "    <tr>\n",
       "      <th>9</th>\n",
       "      <td>rule</td>\n",
       "      <td>4151</td>\n",
       "      <td>0.58</td>\n",
       "    </tr>\n",
       "  </tbody>\n",
       "</table>\n",
       "</div>"
      ],
      "text/plain": [
       "        Word  Count  Percentage\n",
       "0   aircraft  11130        1.55\n",
       "1     flight  10761        1.50\n",
       "2  runway(s)   8407        1.17\n",
       "3  feet/foot   7730        1.08\n",
       "4    traffic   6050        0.84\n",
       "5   approach   5911        0.82\n",
       "6       time   4531        0.63\n",
       "7    landing   4420        0.62\n",
       "8      tower   4324        0.60\n",
       "9       rule   4151        0.58"
      ]
     },
     "execution_count": 120,
     "metadata": {},
     "output_type": "execute_result"
    }
   ],
   "source": [
    "frequency[0:10]"
   ]
  },
  {
   "cell_type": "code",
   "execution_count": 121,
   "metadata": {},
   "outputs": [],
   "source": [
    "frequency.to_csv('word_count_report1.csv')"
   ]
  },
  {
   "cell_type": "markdown",
   "metadata": {},
   "source": [
    "# Extracing Regular Words"
   ]
  },
  {
   "cell_type": "code",
   "execution_count": 136,
   "metadata": {},
   "outputs": [],
   "source": [
    "# import two dictionaries to remove regular words\n",
    "dict_regular = pd.read_csv(\"dictionary.csv\")\n",
    "dict_engmix_df = pd.read_csv(\"engmix.csv\", encoding='latin1')"
   ]
  },
  {
   "cell_type": "code",
   "execution_count": 152,
   "metadata": {},
   "outputs": [
    {
     "data": {
      "text/plain": [
       "84098"
      ]
     },
     "execution_count": 152,
     "metadata": {},
     "output_type": "execute_result"
    }
   ],
   "source": [
    "dict_engmix = list(dict_engmix_df.iloc[:, 0])\n",
    "len(dict_engmix)"
   ]
  },
  {
   "cell_type": "code",
   "execution_count": 46,
   "metadata": {},
   "outputs": [
    {
     "data": {
      "text/plain": [
       "54554"
      ]
     },
     "execution_count": 46,
     "metadata": {},
     "output_type": "execute_result"
    }
   ],
   "source": [
    "# store the first column with words \n",
    "dict_words = dict_regular.iloc[:, 0]\n",
    "len(dict_words)"
   ]
  },
  {
   "cell_type": "code",
   "execution_count": 54,
   "metadata": {},
   "outputs": [
    {
     "data": {
      "text/plain": [
       "34240"
      ]
     },
     "execution_count": 54,
     "metadata": {},
     "output_type": "execute_result"
    }
   ],
   "source": [
    "# remove duplicated words and make them lowercase\n",
    "dict_words = list(dict.fromkeys(dict_words))\n",
    "dict_words = [x.lower() for x in dict_words]\n",
    "len(dict_words)"
   ]
  },
  {
   "cell_type": "code",
   "execution_count": 141,
   "metadata": {},
   "outputs": [],
   "source": [
    "# remove function\n",
    "def remove_words(original_dict, dict_):\n",
    "    filter_bool = []\n",
    "    for word in original_dict[\"Word\"]:\n",
    "        filter_bool.append(word not in dict_)\n",
    "        \n",
    "    new_dict = original_dict[filter_bool]\n",
    "    return new_dict"
   ]
  },
  {
   "cell_type": "code",
   "execution_count": 142,
   "metadata": {},
   "outputs": [],
   "source": [
    "# use the dict_words to remove\n",
    "dict_temp = remove_words(frequency, dict_words)"
   ]
  },
  {
   "cell_type": "code",
   "execution_count": 156,
   "metadata": {},
   "outputs": [
    {
     "data": {
      "text/plain": [
       "6628"
      ]
     },
     "execution_count": 156,
     "metadata": {},
     "output_type": "execute_result"
    }
   ],
   "source": [
    "# use the dict_engmix to remove\n",
    "dict_abnormal = remove_words(dict_temp, dict_engmix)\n",
    "len(dict_abnormal)"
   ]
  },
  {
   "cell_type": "code",
   "execution_count": 158,
   "metadata": {},
   "outputs": [
    {
     "data": {
      "text/html": [
       "<div>\n",
       "<style scoped>\n",
       "    .dataframe tbody tr th:only-of-type {\n",
       "        vertical-align: middle;\n",
       "    }\n",
       "\n",
       "    .dataframe tbody tr th {\n",
       "        vertical-align: top;\n",
       "    }\n",
       "\n",
       "    .dataframe thead th {\n",
       "        text-align: right;\n",
       "    }\n",
       "</style>\n",
       "<table border=\"1\" class=\"dataframe\">\n",
       "  <thead>\n",
       "    <tr style=\"text-align: right;\">\n",
       "      <th></th>\n",
       "      <th>Word</th>\n",
       "      <th>Count</th>\n",
       "      <th>Percentage</th>\n",
       "    </tr>\n",
       "  </thead>\n",
       "  <tbody>\n",
       "    <tr>\n",
       "      <th>2</th>\n",
       "      <td>runway(s)</td>\n",
       "      <td>8407</td>\n",
       "      <td>1.17</td>\n",
       "    </tr>\n",
       "    <tr>\n",
       "      <th>3</th>\n",
       "      <td>feet/foot</td>\n",
       "      <td>7730</td>\n",
       "      <td>1.08</td>\n",
       "    </tr>\n",
       "    <tr>\n",
       "      <th>42</th>\n",
       "      <td>clred</td>\n",
       "      <td>1989</td>\n",
       "      <td>0.28</td>\n",
       "    </tr>\n",
       "    <tr>\n",
       "      <th>59</th>\n",
       "      <td>taxiway</td>\n",
       "      <td>1581</td>\n",
       "      <td>0.22</td>\n",
       "    </tr>\n",
       "    <tr>\n",
       "      <th>67</th>\n",
       "      <td>rptr</td>\n",
       "      <td>1426</td>\n",
       "      <td>0.20</td>\n",
       "    </tr>\n",
       "    <tr>\n",
       "      <th>77</th>\n",
       "      <td>degs</td>\n",
       "      <td>1356</td>\n",
       "      <td>0.19</td>\n",
       "    </tr>\n",
       "    <tr>\n",
       "      <th>150</th>\n",
       "      <td>meridiem</td>\n",
       "      <td>848</td>\n",
       "      <td>0.12</td>\n",
       "    </tr>\n",
       "    <tr>\n",
       "      <th>151</th>\n",
       "      <td>omni-directional</td>\n",
       "      <td>847</td>\n",
       "      <td>0.12</td>\n",
       "    </tr>\n",
       "    <tr>\n",
       "      <th>153</th>\n",
       "      <td>zzz</td>\n",
       "      <td>836</td>\n",
       "      <td>0.12</td>\n",
       "    </tr>\n",
       "    <tr>\n",
       "      <th>161</th>\n",
       "      <td>didnt</td>\n",
       "      <td>803</td>\n",
       "      <td>0.11</td>\n",
       "    </tr>\n",
       "  </tbody>\n",
       "</table>\n",
       "</div>"
      ],
      "text/plain": [
       "                 Word  Count  Percentage\n",
       "2           runway(s)   8407        1.17\n",
       "3           feet/foot   7730        1.08\n",
       "42              clred   1989        0.28\n",
       "59            taxiway   1581        0.22\n",
       "67               rptr   1426        0.20\n",
       "77               degs   1356        0.19\n",
       "150          meridiem    848        0.12\n",
       "151  omni-directional    847        0.12\n",
       "153               zzz    836        0.12\n",
       "161             didnt    803        0.11"
      ]
     },
     "execution_count": 158,
     "metadata": {},
     "output_type": "execute_result"
    }
   ],
   "source": [
    "dict_abnormal.head(10)"
   ]
  },
  {
   "cell_type": "code",
   "execution_count": 157,
   "metadata": {},
   "outputs": [],
   "source": [
    "dict_abnormal.to_csv(\"abnormal_abbre_counts.csv\")"
   ]
  },
  {
   "cell_type": "code",
   "execution_count": null,
   "metadata": {},
   "outputs": [],
   "source": []
  }
 ],
 "metadata": {
  "kernelspec": {
   "display_name": "Python 3",
   "language": "python",
   "name": "python3"
  },
  "language_info": {
   "codemirror_mode": {
    "name": "ipython",
    "version": 3
   },
   "file_extension": ".py",
   "mimetype": "text/x-python",
   "name": "python",
   "nbconvert_exporter": "python",
   "pygments_lexer": "ipython3",
   "version": "3.7.4"
  }
 },
 "nbformat": 4,
 "nbformat_minor": 2
}
